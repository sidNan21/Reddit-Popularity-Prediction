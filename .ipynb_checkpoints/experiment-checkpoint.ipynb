{
 "cells": [
  {
   "cell_type": "code",
   "execution_count": 16,
   "metadata": {},
   "outputs": [],
   "source": [
    "# Import some common packages\n",
    "import os\n",
    "import numpy as np\n",
    "import matplotlib\n",
    "import matplotlib.pyplot as plt\n",
    "import pandas as pd\n",
    "\n",
    "from sklearn.preprocessing import OneHotEncoder\n",
    "from sklearn.pipeline import Pipeline\n",
    "from sklearn.preprocessing import StandardScaler\n",
    "from sklearn.preprocessing import PowerTransformer\n",
    "from sklearn.feature_extraction.text import TfidfVectorizer\n",
    "from sklearn.compose import ColumnTransformer\n",
    "from sklearn.model_selection import train_test_split\n",
    "\n",
    "# to make this notebook's output stable across runs\n",
    "np.random.seed(42)"
   ]
  },
  {
   "cell_type": "code",
   "execution_count": 17,
   "metadata": {},
   "outputs": [
    {
     "name": "stdout",
     "output_type": "stream",
     "text": [
      "This dataset contains 1529 points\n"
     ]
    },
    {
     "data": {
      "text/html": [
       "<div>\n",
       "<style scoped>\n",
       "    .dataframe tbody tr th:only-of-type {\n",
       "        vertical-align: middle;\n",
       "    }\n",
       "\n",
       "    .dataframe tbody tr th {\n",
       "        vertical-align: top;\n",
       "    }\n",
       "\n",
       "    .dataframe thead th {\n",
       "        text-align: right;\n",
       "    }\n",
       "</style>\n",
       "<table border=\"1\" class=\"dataframe\">\n",
       "  <thead>\n",
       "    <tr style=\"text-align: right;\">\n",
       "      <th></th>\n",
       "      <th>body</th>\n",
       "      <th>score</th>\n",
       "      <th>gilds</th>\n",
       "      <th>distinguished</th>\n",
       "    </tr>\n",
       "  </thead>\n",
       "  <tbody>\n",
       "    <tr>\n",
       "      <th>0</th>\n",
       "      <td>Hopefully it doesn't. I live in an apartment s...</td>\n",
       "      <td>37</td>\n",
       "      <td>0</td>\n",
       "      <td>none</td>\n",
       "    </tr>\n",
       "    <tr>\n",
       "      <th>1</th>\n",
       "      <td>The UK government strategy is normally to prew...</td>\n",
       "      <td>29</td>\n",
       "      <td>0</td>\n",
       "      <td>none</td>\n",
       "    </tr>\n",
       "    <tr>\n",
       "      <th>2</th>\n",
       "      <td>I see this being the new rule soon. People are...</td>\n",
       "      <td>72</td>\n",
       "      <td>0</td>\n",
       "      <td>none</td>\n",
       "    </tr>\n",
       "    <tr>\n",
       "      <th>3</th>\n",
       "      <td>Nothing will stop it realistically\\nWe don’t h...</td>\n",
       "      <td>16</td>\n",
       "      <td>0</td>\n",
       "      <td>none</td>\n",
       "    </tr>\n",
       "    <tr>\n",
       "      <th>4</th>\n",
       "      <td>You know the world has gone mad when the headl...</td>\n",
       "      <td>13</td>\n",
       "      <td>0</td>\n",
       "      <td>none</td>\n",
       "    </tr>\n",
       "  </tbody>\n",
       "</table>\n",
       "</div>"
      ],
      "text/plain": [
       "                                                body  score  gilds  \\\n",
       "0  Hopefully it doesn't. I live in an apartment s...     37      0   \n",
       "1  The UK government strategy is normally to prew...     29      0   \n",
       "2  I see this being the new rule soon. People are...     72      0   \n",
       "3  Nothing will stop it realistically\\nWe don’t h...     16      0   \n",
       "4  You know the world has gone mad when the headl...     13      0   \n",
       "\n",
       "  distinguished  \n",
       "0          none  \n",
       "1          none  \n",
       "2          none  \n",
       "3          none  \n",
       "4          none  "
      ]
     },
     "execution_count": 17,
     "metadata": {},
     "output_type": "execute_result"
    }
   ],
   "source": [
    "# Read in data\n",
    "data = pd.read_json('data/Coronavirus.json')\n",
    "data['distinguished'] = data['distinguished'].fillna(value='none')\n",
    "data.drop(columns=['created_utc'], inplace=True)\n",
    "comments = data['body']\n",
    "print('This dataset contains ' + str(len(data)) + ' points')\n",
    "data.head()"
   ]
  },
  {
   "cell_type": "code",
   "execution_count": 18,
   "metadata": {},
   "outputs": [
    {
     "name": "stdout",
     "output_type": "stream",
     "text": [
      "Score information\n"
     ]
    },
    {
     "data": {
      "text/plain": [
       "count    1529.000000\n",
       "mean        9.561805\n",
       "std        20.527571\n",
       "min       -27.000000\n",
       "25%         1.000000\n",
       "50%         3.000000\n",
       "75%        10.000000\n",
       "max       286.000000\n",
       "Name: score, dtype: float64"
      ]
     },
     "metadata": {},
     "output_type": "display_data"
    }
   ],
   "source": [
    "print('Score information')\n",
    "display(data['score'].describe())"
   ]
  },
  {
   "cell_type": "code",
   "execution_count": 19,
   "metadata": {},
   "outputs": [
    {
     "data": {
      "text/plain": [
       "<matplotlib.axes._subplots.AxesSubplot at 0x1a23286ba8>"
      ]
     },
     "execution_count": 19,
     "metadata": {},
     "output_type": "execute_result"
    },
    {
     "data": {
      "image/png": "[encoded data removed]",
      "text/plain": [
       "<Figure size 360x216 with 1 Axes>"
      ]
     },
     "metadata": {
      "needs_background": "light"
     },
     "output_type": "display_data"
    }
   ],
   "source": [
    "data['score'].hist(bins = 50, figsize=(5,3))"
   ]
  },
  {
   "cell_type": "code",
   "execution_count": 20,
   "metadata": {},
   "outputs": [
    {
     "name": "stdout",
     "output_type": "stream",
     "text": [
      "sentiment information\n"
     ]
    },
    {
     "data": {
      "text/plain": [
       "count    1529.000000\n",
       "mean       -1.043165\n",
       "std         4.505316\n",
       "min       -42.000000\n",
       "25%        -3.000000\n",
       "50%         0.000000\n",
       "75%         0.000000\n",
       "max        27.000000\n",
       "Name: sentiment, dtype: float64"
      ]
     },
     "metadata": {},
     "output_type": "display_data"
    }
   ],
   "source": [
    "import afinn\n",
    "\n",
    "afinn_nlp = afinn.Afinn(language='en', emoticons=True)\n",
    "data['sentiment'] = pd.Series([afinn_nlp.score(element) for element in data['body']], index = data.index)\n",
    "print('sentiment information')\n",
    "display(data['sentiment'].describe())"
   ]
  },
  {
   "cell_type": "code",
   "execution_count": 21,
   "metadata": {},
   "outputs": [],
   "source": [
    "train_set, test_set = train_test_split(data, test_size = 0.8)\n",
    "\n",
    "y_train, X_train = train_set['score'], train_set.drop(columns=['score'])\n",
    "y_test, X_test = test_set['score'], test_set.drop(columns=['score'])"
   ]
  },
  {
   "cell_type": "code",
   "execution_count": 22,
   "metadata": {},
   "outputs": [],
   "source": [
    "X_train_body = X_train['body']\n",
    "X_test_body = X_test['body']\n",
    "\n",
    "c1 = X_train['body']\n",
    "c2 = X_test['body']\n",
    "\n",
    "X_train.drop(columns=['body'], inplace=True)\n",
    "X_test.drop(columns=['body'], inplace=True)"
   ]
  },
  {
   "cell_type": "code",
   "execution_count": 23,
   "metadata": {},
   "outputs": [],
   "source": [
    "data.drop(columns=['score', 'body'], inplace=True)\n",
    "full_pipeline = ColumnTransformer([\n",
    "    ('num', StandardScaler(), list(data.select_dtypes(include=[np.number]))),\n",
    "    ('cat', OneHotEncoder(), list(data.select_dtypes(include=[np.object]).columns))\n",
    "])"
   ]
  },
  {
   "cell_type": "code",
   "execution_count": 24,
   "metadata": {},
   "outputs": [],
   "source": [
    "tf = TfidfVectorizer(stop_words='english', max_df=0.8, sublinear_tf=True)"
   ]
  },
  {
   "cell_type": "code",
   "execution_count": 25,
   "metadata": {},
   "outputs": [],
   "source": [
    "X_train = full_pipeline.fit_transform(X_train)\n",
    "X_test = full_pipeline.transform(X_test)"
   ]
  },
  {
   "cell_type": "code",
   "execution_count": 26,
   "metadata": {},
   "outputs": [],
   "source": [
    "tf1 = tf.fit_transform(c1)\n",
    "tf2 = tf.transform(c2)"
   ]
  },
  {
   "cell_type": "code",
   "execution_count": 27,
   "metadata": {},
   "outputs": [],
   "source": [
    "X_train = np.hstack((tf1.todense(), X_train))\n",
    "X_test = np.hstack((tf2.todense(), X_test))"
   ]
  },
  {
   "cell_type": "code",
   "execution_count": 28,
   "metadata": {},
   "outputs": [
    {
     "data": {
      "text/plain": [
       "DecisionTreeRegressor(criterion='mse', max_depth=None, max_features=None,\n",
       "                      max_leaf_nodes=None, min_impurity_decrease=0.0,\n",
       "                      min_impurity_split=None, min_samples_leaf=1,\n",
       "                      min_samples_split=2, min_weight_fraction_leaf=0.0,\n",
       "                      presort=False, random_state=None, splitter='best')"
      ]
     },
     "execution_count": 28,
     "metadata": {},
     "output_type": "execute_result"
    }
   ],
   "source": [
    "from sklearn.tree import DecisionTreeRegressor\n",
    "\n",
    "dt = DecisionTreeRegressor()\n",
    "dt.fit(X_train, y_train)"
   ]
  },
  {
   "cell_type": "code",
   "execution_count": 29,
   "metadata": {},
   "outputs": [
    {
     "data": {
      "text/plain": [
       "-0.4394405108416093"
      ]
     },
     "execution_count": 29,
     "metadata": {},
     "output_type": "execute_result"
    }
   ],
   "source": [
    "dt.score(X_test, y_test)"
   ]
  }
 ],
 "metadata": {
  "kernelspec": {
   "display_name": "Python 3",
   "language": "python",
   "name": "python3"
  },
  "language_info": {
   "codemirror_mode": {
    "name": "ipython",
    "version": 3
   },
   "file_extension": ".py",
   "mimetype": "text/x-python",
   "name": "python",
   "nbconvert_exporter": "python",
   "pygments_lexer": "ipython3",
   "version": "3.6.10"
  }
 },
 "nbformat": 4,
 "nbformat_minor": 4
}
