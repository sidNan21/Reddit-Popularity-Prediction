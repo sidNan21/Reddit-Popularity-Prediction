{
 "cells": [
  {
   "cell_type": "code",
   "execution_count": 1,
   "metadata": {},
   "outputs": [],
   "source": [
    "# general imports\n",
    "import time\n",
    "import os\n",
    "\n",
    "# redefine system path to import outside packages...\n",
    "import sys\n",
    "sys.path.append('../')\n",
    "\n",
    "# import internal tools\n",
    "from src import enrichment\n",
    "from src import fetch\n",
    "from src import tools"
   ]
  },
  {
   "cell_type": "code",
   "execution_count": 2,
   "metadata": {},
   "outputs": [],
   "source": [
    "# parameters for our search...\n",
    "SUB  = 'uva'         # subreddit to scrape from\n",
    "TIME = 'week'        # time range\n",
    "SORT = 'top'         # category by which to sort by\n",
    "N_POSTS    = 1       # number of posts\n",
    "N_COMMENTS = 100     # hard limit on comments per post\n",
    "DEPTH      = 2       # comment depth (or children) limit\n",
    "\n",
    "# make sure you have these!\n",
    "assert os.environ['REDDIT_CLIENT_ID']\n",
    "assert os.environ['REDDIT_CLIENT_SECRET']"
   ]
  },
  {
   "cell_type": "markdown",
   "metadata": {},
   "source": [
    "#### The example below calls a the `flat_fetch` function from `../src/fetch.py`..."
   ]
  },
  {
   "cell_type": "code",
   "execution_count": 3,
   "metadata": {},
   "outputs": [
    {
     "name": "stdout",
     "output_type": "stream",
     "text": [
      "fetching flat comments from uva...           \n",
      "sorting by: top, scraping 1 posts, 100 comments each (depth=2)\n",
      "connecting to reddit client...\n",
      "connected!\n",
      "serializing data...\n",
      "percent complete: 100.0%\n",
      "done!\n"
     ]
    }
   ],
   "source": [
    "# fetch submissions\n",
    "comments_flat = fetch.flat_fetch(\n",
    "    sub  = SUB,\n",
    "    time = TIME,\n",
    "    sort = SORT,\n",
    "    num_posts = N_POSTS,\n",
    "    num_comments = N_COMMENTS,\n",
    "    depth = DEPTH\n",
    ")"
   ]
  },
  {
   "cell_type": "markdown",
   "metadata": {},
   "source": [
    "#### There exists another function `forest_fetch` that, while outputting a flattened list, still retains structural information such as depth."
   ]
  },
  {
   "cell_type": "code",
   "execution_count": 4,
   "metadata": {},
   "outputs": [
    {
     "name": "stdout",
     "output_type": "stream",
     "text": [
      "fetching comments from uva...           \n",
      "sorting by: top, scraping 1 posts\n",
      "hard limit of 100 comments per post...\n",
      "with maximum comment tree depth of 2...\n",
      "connecting to reddit client...\n",
      "connected!\n"
     ]
    }
   ],
   "source": [
    "# fetch submissions\n",
    "comments = fetch.forest_fetch(\n",
    "    sub  = SUB,\n",
    "    time = TIME,\n",
    "    sort = SORT,\n",
    "    num_posts = N_POSTS,\n",
    "    num_comments = N_COMMENTS,\n",
    "    depth = DEPTH\n",
    ")"
   ]
  },
  {
   "cell_type": "markdown",
   "metadata": {},
   "source": [
    "#### save both as jsons..."
   ]
  },
  {
   "cell_type": "code",
   "execution_count": 5,
   "metadata": {},
   "outputs": [],
   "source": [
    "# save to .json\n",
    "tools.save_json(comments_flat, '../data/uva-flat-example.json')\n",
    "tools.save_json(comments,      '../data/uva-depth-example.json')"
   ]
  },
  {
   "cell_type": "code",
   "execution_count": null,
   "metadata": {},
   "outputs": [],
   "source": []
  }
 ],
 "metadata": {
  "kernelspec": {
   "display_name": "Python 3",
   "language": "python",
   "name": "python3"
  },
  "language_info": {
   "codemirror_mode": {
    "name": "ipython",
    "version": 3
   },
   "file_extension": ".py",
   "mimetype": "text/x-python",
   "name": "python",
   "nbconvert_exporter": "python",
   "pygments_lexer": "ipython3",
   "version": "3.7.4"
  }
 },
 "nbformat": 4,
 "nbformat_minor": 2
}
