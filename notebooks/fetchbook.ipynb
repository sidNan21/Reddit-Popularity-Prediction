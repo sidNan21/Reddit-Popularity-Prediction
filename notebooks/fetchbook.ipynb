{
 "cells": [
  {
   "cell_type": "code",
   "execution_count": 1,
   "metadata": {},
   "outputs": [],
   "source": [
    "# general imports\n",
    "import time\n",
    "import os\n",
    "\n",
    "# redefine system path to import outside packages...\n",
    "import sys\n",
    "sys.path.append('../')\n",
    "\n",
    "# import internal tools\n",
    "from src import enrichment\n",
    "from src import fetch\n",
    "from src import tools"
   ]
  },
  {
   "cell_type": "code",
   "execution_count": 2,
   "metadata": {},
   "outputs": [],
   "source": [
    "# parameters for our search...\n",
    "SUB  = 'relationship_advice' # subreddit to scrape from\n",
    "TIME = 'month'         # time range\n",
    "SORT = 'top'           # category by which to sort by\n",
    "N_POSTS    = 50        # number of posts\n",
    "N_COMMENTS = None      # hard limit on comments per post\n",
    "DEPTH      = None      # comment depth (or children) limit\n",
    "\n",
    "# make sure you have these!\n",
    "assert os.environ['REDDIT_CLIENT_ID']\n",
    "assert os.environ['REDDIT_CLIENT_SECRET']"
   ]
  },
  {
   "cell_type": "markdown",
   "metadata": {},
   "source": [
    "#### The example below calls a the `fetch` function from `../src/fetch.py`..."
   ]
  },
  {
   "cell_type": "code",
   "execution_count": 3,
   "metadata": {},
   "outputs": [
    {
     "name": "stdout",
     "output_type": "stream",
     "text": [
      "fetching comments from relationship_advice...           \n",
      "sorting by: top, scraping 50 posts, None comments each (depth=None)\n",
      "connecting to reddit client...\n",
      "connected!\n",
      "serializing data...\n",
      "percent complete: 2.0%\n",
      "2235\n",
      "percent complete: 4.0%\n",
      "5505\n",
      "percent complete: 6.0%\n",
      "7203\n",
      "percent complete: 8.0%\n",
      "9327\n",
      "percent complete: 10.0%\n",
      "11392\n",
      "percent complete: 12.0%\n",
      "12578\n",
      "percent complete: 14.000000000000002%\n",
      "13980\n",
      "percent complete: 16.0%\n",
      "15213\n",
      "percent complete: 18.0%\n",
      "18643\n",
      "percent complete: 20.0%\n",
      "20391\n",
      "percent complete: 22.0%\n",
      "21368\n",
      "percent complete: 24.0%\n",
      "24277\n",
      "percent complete: 26.0%\n",
      "25355\n",
      "percent complete: 28.000000000000004%\n",
      "27186\n",
      "percent complete: 30.0%\n",
      "28031\n",
      "percent complete: 32.0%\n",
      "28034\n",
      "percent complete: 34.0%\n",
      "28851\n",
      "percent complete: 36.0%\n",
      "29327\n",
      "percent complete: 38.0%\n",
      "31215\n",
      "percent complete: 40.0%\n",
      "32043\n",
      "percent complete: 42.0%\n",
      "32380\n",
      "percent complete: 44.0%\n",
      "34197\n",
      "percent complete: 46.0%\n",
      "34432\n",
      "percent complete: 48.0%\n",
      "35065\n",
      "percent complete: 50.0%\n",
      "35894\n",
      "percent complete: 52.0%\n",
      "36755\n",
      "percent complete: 54.0%\n",
      "37894\n",
      "percent complete: 56.00000000000001%\n",
      "38721\n",
      "percent complete: 57.99999999999999%\n",
      "39389\n",
      "percent complete: 60.0%\n",
      "39626\n",
      "percent complete: 62.0%\n",
      "40595\n",
      "percent complete: 64.0%\n",
      "41549\n",
      "percent complete: 66.0%\n",
      "42284\n",
      "percent complete: 68.0%\n",
      "43263\n",
      "percent complete: 70.0%\n",
      "43684\n",
      "percent complete: 72.0%\n",
      "44317\n",
      "percent complete: 74.0%\n",
      "44943\n",
      "percent complete: 76.0%\n",
      "45127\n",
      "percent complete: 78.0%\n",
      "45576\n",
      "percent complete: 80.0%\n",
      "46239\n",
      "percent complete: 82.0%\n",
      "47179\n",
      "percent complete: 84.0%\n",
      "47826\n",
      "percent complete: 86.0%\n",
      "48189\n",
      "percent complete: 88.0%\n",
      "50205\n",
      "percent complete: 90.0%\n",
      "50684\n",
      "percent complete: 92.0%\n",
      "51521\n",
      "percent complete: 94.0%\n",
      "51968\n",
      "percent complete: 96.0%\n",
      "52316\n",
      "percent complete: 98.0%\n",
      "53105\n",
      "percent complete: 100.0%\n",
      "53428\n",
      "done!\n"
     ]
    }
   ],
   "source": [
    "# fetch submissions\n",
    "comments = fetch.fetch(\n",
    "    sub  = SUB,\n",
    "    time = TIME,\n",
    "    sort = SORT,\n",
    "    num_posts = N_POSTS,\n",
    "    num_comments = N_COMMENTS,\n",
    "    depth = DEPTH\n",
    ")"
   ]
  },
  {
   "cell_type": "markdown",
   "metadata": {},
   "source": [
    "#### save both as jsons..."
   ]
  },
  {
   "cell_type": "code",
   "execution_count": 4,
   "metadata": {},
   "outputs": [],
   "source": [
    "# save to .json\n",
    "tools.save_json(comments, '../data/relationship_advice.json')"
   ]
  }
 ],
 "metadata": {
  "kernelspec": {
   "display_name": "Python 3",
   "language": "python",
   "name": "python3"
  },
  "language_info": {
   "codemirror_mode": {
    "name": "ipython",
    "version": 3
   },
   "file_extension": ".py",
   "mimetype": "text/x-python",
   "name": "python",
   "nbconvert_exporter": "python",
   "pygments_lexer": "ipython3",
   "version": "3.6.10"
  }
 },
 "nbformat": 4,
 "nbformat_minor": 4
}
