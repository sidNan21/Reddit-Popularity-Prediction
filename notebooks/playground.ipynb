{
 "cells": [
  {
   "cell_type": "code",
   "execution_count": 1,
   "metadata": {},
   "outputs": [],
   "source": [
    "# general imports\n",
    "import time\n",
    "import os\n",
    "\n",
    "# redefine system path to import outside packages...\n",
    "import sys\n",
    "sys.path.append('../')\n",
    "\n",
    "# import internal tools\n",
    "from src import enrichment\n",
    "from src import fetch\n",
    "from src import tools"
   ]
  },
  {
   "cell_type": "code",
   "execution_count": 2,
   "metadata": {},
   "outputs": [],
   "source": [
    "# parameters for our search...\n",
    "SUB  = 'uva' # subreddit to scrape from\n",
    "TIME = 'week'         # time range\n",
    "SORT = 'top'         # category by which to sort by\n",
    "N_POSTS    = 1       # number of posts\n",
    "N_COMMENTS = 100     # number of comments PER post\n",
    "DEPTH      = 5       # comment depth (or children) limit"
   ]
  },
  {
   "cell_type": "code",
   "execution_count": 3,
   "metadata": {},
   "outputs": [
    {
     "name": "stdout",
     "output_type": "stream",
     "text": [
      "fetching comments from uva...           \n",
      "sorting by: top, scraping 1 posts, 100 comments each (depth=5)\n",
      "connecting to reddit client...\n",
      "connected!\n"
     ]
    }
   ],
   "source": [
    "# fetch submissions\n",
    "submissions = fetch.forest_fetch(\n",
    "    sub  = SUB,\n",
    "    time = TIME,\n",
    "    sort = SORT,\n",
    "    num_posts = N_POSTS,\n",
    "    num_comments = N_COMMENTS,\n",
    "    depth = DEPTH\n",
    ")"
   ]
  },
  {
   "cell_type": "code",
   "execution_count": 4,
   "metadata": {},
   "outputs": [],
   "source": [
    "tools.save_json(submissions, '../data/testdepth.json')"
   ]
  },
  {
   "cell_type": "code",
   "execution_count": null,
   "metadata": {},
   "outputs": [],
   "source": []
  }
 ],
 "metadata": {
  "kernelspec": {
   "display_name": "Python 3",
   "language": "python",
   "name": "python3"
  },
  "language_info": {
   "codemirror_mode": {
    "name": "ipython",
    "version": 3
   },
   "file_extension": ".py",
   "mimetype": "text/x-python",
   "name": "python",
   "nbconvert_exporter": "python",
   "pygments_lexer": "ipython3",
   "version": "3.7.4"
  }
 },
 "nbformat": 4,
 "nbformat_minor": 2
}
