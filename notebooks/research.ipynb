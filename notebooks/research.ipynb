{
 "cells": [
  {
   "cell_type": "code",
   "execution_count": 1,
   "metadata": {},
   "outputs": [],
   "source": [
    "# Import some common packages\n",
    "import os\n",
    "import numpy as np\n",
    "import matplotlib\n",
    "import matplotlib.pyplot as plt\n",
    "import pandas as pd"
   ]
  },
  {
   "cell_type": "code",
   "execution_count": 2,
   "metadata": {},
   "outputs": [],
   "source": [
    "# Load data\n",
    "data = pd.read_json('../data/relationship_advice.json')\n",
    "data['distinguished'] = data['distinguished'].fillna(value='none')"
   ]
  },
  {
   "cell_type": "code",
   "execution_count": 3,
   "metadata": {},
   "outputs": [],
   "source": [
    "# Clean data and generate features\n",
    "import afinn\n",
    "\n",
    "afinn_nlp = afinn.Afinn(language='en', emoticons=True)\n",
    "data['sentiment'] = data['body'].apply(lambda text: afinn_nlp.score(text))\n",
    "\n",
    "data['word_count'] = data['body'].apply(lambda text: len(text.split(' ')))\n",
    "data['char_count'] = data['body'].apply(lambda text: len(text))\n",
    "\n",
    "def categorize(score):\n",
    "    if score < 0:\n",
    "        return 'UNPOPULAR'\n",
    "    elif score >= 0 and score < 100:\n",
    "        return 'UNREMARKABLE'\n",
    "    elif score >= 100 and score < 500:\n",
    "        return 'SOMEWHAT POPULAR'\n",
    "    elif score >= 500 and score < 1000:\n",
    "        return 'POPULAR'\n",
    "    else:\n",
    "        return 'VERY POPULAR'\n",
    "data['score_cat'] = data['score'].apply(lambda score: categorize(score))"
   ]
  },
  {
   "cell_type": "code",
   "execution_count": 4,
   "metadata": {},
   "outputs": [],
   "source": [
    "from sklearn.model_selection import train_test_split\n",
    "from sklearn.feature_extraction.text import TfidfVectorizer\n",
    "\n",
    "tf = TfidfVectorizer(stop_words='english', sublinear_tf=True)\n",
    "train_set, test_set = train_test_split(data, test_size = 0.2)\n",
    "\n",
    "y_train, X_train = train_set['score_cat'], train_set['body']\n",
    "y_test, X_test = test_set['score_cat'], test_set['body']\n",
    "\n",
    "X_train = tf.fit_transform(X_train)\n",
    "X_test = tf.transform(X_test)"
   ]
  },
  {
   "cell_type": "code",
   "execution_count": 5,
   "metadata": {},
   "outputs": [
    {
     "data": {
      "text/plain": [
       "DecisionTreeClassifier(class_weight=None, criterion='gini', max_depth=None,\n",
       "                       max_features=None, max_leaf_nodes=None,\n",
       "                       min_impurity_decrease=0.0, min_impurity_split=None,\n",
       "                       min_samples_leaf=1, min_samples_split=2,\n",
       "                       min_weight_fraction_leaf=0.0, presort=False,\n",
       "                       random_state=None, splitter='best')"
      ]
     },
     "execution_count": 5,
     "metadata": {},
     "output_type": "execute_result"
    }
   ],
   "source": [
    "from sklearn.tree import DecisionTreeClassifier\n",
    "\n",
    "dt = DecisionTreeClassifier()\n",
    "dt.fit(X_train, y_train)"
   ]
  },
  {
   "cell_type": "code",
   "execution_count": 6,
   "metadata": {},
   "outputs": [
    {
     "name": "stdout",
     "output_type": "stream",
     "text": [
      "Accuracy of the DT:  0.8320232079356167\n",
      "Precision of the DT:  0.8092472812473345\n",
      "Recall of the DT:  0.8320232079356167\n",
      "F-Score of the DT:  0.8201943139436558\n"
     ]
    }
   ],
   "source": [
    "from sklearn.metrics import accuracy_score, precision_score, recall_score, f1_score\n",
    "\n",
    "y_predict = dt.predict(X_test)\n",
    "\n",
    "print(\"Accuracy of the DT: \", accuracy_score(y_test, y_predict))\n",
    "print(\"Precision of the DT: \", precision_score(y_test, y_predict, labels=list(set(data['score_cat'])), average='weighted'))\n",
    "print(\"Recall of the DT: \", recall_score(y_test, y_predict, labels=list(set(data['score_cat'])), average='weighted'))\n",
    "print(\"F-Score of the DT: \", f1_score(y_test, y_predict, labels=list(set(data['score_cat'])), average='weighted'))"
   ]
  },
  {
   "cell_type": "code",
   "execution_count": 7,
   "metadata": {},
   "outputs": [
    {
     "data": {
      "text/html": [
       "<div>\n",
       "<style scoped>\n",
       "    .dataframe tbody tr th:only-of-type {\n",
       "        vertical-align: middle;\n",
       "    }\n",
       "\n",
       "    .dataframe tbody tr th {\n",
       "        vertical-align: top;\n",
       "    }\n",
       "\n",
       "    .dataframe thead th {\n",
       "        text-align: right;\n",
       "    }\n",
       "</style>\n",
       "<table border=\"1\" class=\"dataframe\">\n",
       "  <thead>\n",
       "    <tr style=\"text-align: right;\">\n",
       "      <th></th>\n",
       "      <th>id</th>\n",
       "      <th>parent_id</th>\n",
       "      <th>top_level</th>\n",
       "      <th>depth</th>\n",
       "      <th>created_utc</th>\n",
       "      <th>time_dff</th>\n",
       "      <th>body</th>\n",
       "      <th>score</th>\n",
       "      <th>gilds</th>\n",
       "      <th>distinguished</th>\n",
       "      <th>sentiment</th>\n",
       "      <th>word_count</th>\n",
       "      <th>char_count</th>\n",
       "      <th>score_cat</th>\n",
       "    </tr>\n",
       "  </thead>\n",
       "  <tbody>\n",
       "    <tr>\n",
       "      <th>0</th>\n",
       "      <td>fmr1a1f</td>\n",
       "      <td>t3_fwog3j</td>\n",
       "      <td>True</td>\n",
       "      <td>0</td>\n",
       "      <td>1586311571</td>\n",
       "      <td>31660</td>\n",
       "      <td>Thread's not getting removed; they worked with...</td>\n",
       "      <td>1</td>\n",
       "      <td>0</td>\n",
       "      <td>moderator</td>\n",
       "      <td>2.0</td>\n",
       "      <td>13</td>\n",
       "      <td>77</td>\n",
       "      <td>UNREMARKABLE</td>\n",
       "    </tr>\n",
       "    <tr>\n",
       "      <th>1</th>\n",
       "      <td>fmpody3</td>\n",
       "      <td>t3_fwog3j</td>\n",
       "      <td>True</td>\n",
       "      <td>0</td>\n",
       "      <td>1586284435</td>\n",
       "      <td>4524</td>\n",
       "      <td>Just imagine being your sons boyfriend and to ...</td>\n",
       "      <td>11749</td>\n",
       "      <td>1</td>\n",
       "      <td>none</td>\n",
       "      <td>10.0</td>\n",
       "      <td>60</td>\n",
       "      <td>306</td>\n",
       "      <td>VERY POPULAR</td>\n",
       "    </tr>\n",
       "    <tr>\n",
       "      <th>2</th>\n",
       "      <td>fmpfvc6</td>\n",
       "      <td>t3_fwog3j</td>\n",
       "      <td>True</td>\n",
       "      <td>0</td>\n",
       "      <td>1586280101</td>\n",
       "      <td>190</td>\n",
       "      <td>I’m so happy it worked out for you. I’ve been ...</td>\n",
       "      <td>3530</td>\n",
       "      <td>0</td>\n",
       "      <td>none</td>\n",
       "      <td>12.0</td>\n",
       "      <td>34</td>\n",
       "      <td>172</td>\n",
       "      <td>VERY POPULAR</td>\n",
       "    </tr>\n",
       "    <tr>\n",
       "      <th>3</th>\n",
       "      <td>fmpk2gj</td>\n",
       "      <td>t3_fwog3j</td>\n",
       "      <td>True</td>\n",
       "      <td>0</td>\n",
       "      <td>1586282236</td>\n",
       "      <td>2325</td>\n",
       "      <td>&gt;Sorry if that isn't all as exciting and groun...</td>\n",
       "      <td>17208</td>\n",
       "      <td>4</td>\n",
       "      <td>none</td>\n",
       "      <td>4.0</td>\n",
       "      <td>25</td>\n",
       "      <td>136</td>\n",
       "      <td>VERY POPULAR</td>\n",
       "    </tr>\n",
       "    <tr>\n",
       "      <th>4</th>\n",
       "      <td>fmpgk5l</td>\n",
       "      <td>t3_fwog3j</td>\n",
       "      <td>True</td>\n",
       "      <td>0</td>\n",
       "      <td>1586280449</td>\n",
       "      <td>538</td>\n",
       "      <td>I'm happy to hear that this worked out so well...</td>\n",
       "      <td>2032</td>\n",
       "      <td>0</td>\n",
       "      <td>none</td>\n",
       "      <td>6.0</td>\n",
       "      <td>60</td>\n",
       "      <td>318</td>\n",
       "      <td>VERY POPULAR</td>\n",
       "    </tr>\n",
       "  </tbody>\n",
       "</table>\n",
       "</div>"
      ],
      "text/plain": [
       "        id  parent_id  top_level  depth  created_utc  time_dff  \\\n",
       "0  fmr1a1f  t3_fwog3j       True      0   1586311571     31660   \n",
       "1  fmpody3  t3_fwog3j       True      0   1586284435      4524   \n",
       "2  fmpfvc6  t3_fwog3j       True      0   1586280101       190   \n",
       "3  fmpk2gj  t3_fwog3j       True      0   1586282236      2325   \n",
       "4  fmpgk5l  t3_fwog3j       True      0   1586280449       538   \n",
       "\n",
       "                                                body  score  gilds  \\\n",
       "0  Thread's not getting removed; they worked with...      1      0   \n",
       "1  Just imagine being your sons boyfriend and to ...  11749      1   \n",
       "2  I’m so happy it worked out for you. I’ve been ...   3530      0   \n",
       "3  >Sorry if that isn't all as exciting and groun...  17208      4   \n",
       "4  I'm happy to hear that this worked out so well...   2032      0   \n",
       "\n",
       "  distinguished  sentiment  word_count  char_count     score_cat  \n",
       "0     moderator        2.0          13          77  UNREMARKABLE  \n",
       "1          none       10.0          60         306  VERY POPULAR  \n",
       "2          none       12.0          34         172  VERY POPULAR  \n",
       "3          none        4.0          25         136  VERY POPULAR  \n",
       "4          none        6.0          60         318  VERY POPULAR  "
      ]
     },
     "execution_count": 7,
     "metadata": {},
     "output_type": "execute_result"
    }
   ],
   "source": [
    "data.head()"
   ]
  },
  {
   "cell_type": "code",
   "execution_count": 8,
   "metadata": {},
   "outputs": [
    {
     "data": {
      "text/html": [
       "<div>\n",
       "<style scoped>\n",
       "    .dataframe tbody tr th:only-of-type {\n",
       "        vertical-align: middle;\n",
       "    }\n",
       "\n",
       "    .dataframe tbody tr th {\n",
       "        vertical-align: top;\n",
       "    }\n",
       "\n",
       "    .dataframe thead th {\n",
       "        text-align: right;\n",
       "    }\n",
       "</style>\n",
       "<table border=\"1\" class=\"dataframe\">\n",
       "  <thead>\n",
       "    <tr style=\"text-align: right;\">\n",
       "      <th></th>\n",
       "      <th>depth</th>\n",
       "      <th>time_dff</th>\n",
       "      <th>gilds</th>\n",
       "      <th>distinguished</th>\n",
       "      <th>sentiment</th>\n",
       "      <th>word_count</th>\n",
       "      <th>char_count</th>\n",
       "      <th>score_cat</th>\n",
       "    </tr>\n",
       "  </thead>\n",
       "  <tbody>\n",
       "    <tr>\n",
       "      <th>0</th>\n",
       "      <td>0</td>\n",
       "      <td>31660</td>\n",
       "      <td>0</td>\n",
       "      <td>moderator</td>\n",
       "      <td>2.0</td>\n",
       "      <td>13</td>\n",
       "      <td>77</td>\n",
       "      <td>UNREMARKABLE</td>\n",
       "    </tr>\n",
       "    <tr>\n",
       "      <th>1</th>\n",
       "      <td>0</td>\n",
       "      <td>4524</td>\n",
       "      <td>1</td>\n",
       "      <td>none</td>\n",
       "      <td>10.0</td>\n",
       "      <td>60</td>\n",
       "      <td>306</td>\n",
       "      <td>VERY POPULAR</td>\n",
       "    </tr>\n",
       "    <tr>\n",
       "      <th>2</th>\n",
       "      <td>0</td>\n",
       "      <td>190</td>\n",
       "      <td>0</td>\n",
       "      <td>none</td>\n",
       "      <td>12.0</td>\n",
       "      <td>34</td>\n",
       "      <td>172</td>\n",
       "      <td>VERY POPULAR</td>\n",
       "    </tr>\n",
       "    <tr>\n",
       "      <th>3</th>\n",
       "      <td>0</td>\n",
       "      <td>2325</td>\n",
       "      <td>4</td>\n",
       "      <td>none</td>\n",
       "      <td>4.0</td>\n",
       "      <td>25</td>\n",
       "      <td>136</td>\n",
       "      <td>VERY POPULAR</td>\n",
       "    </tr>\n",
       "    <tr>\n",
       "      <th>4</th>\n",
       "      <td>0</td>\n",
       "      <td>538</td>\n",
       "      <td>0</td>\n",
       "      <td>none</td>\n",
       "      <td>6.0</td>\n",
       "      <td>60</td>\n",
       "      <td>318</td>\n",
       "      <td>VERY POPULAR</td>\n",
       "    </tr>\n",
       "  </tbody>\n",
       "</table>\n",
       "</div>"
      ],
      "text/plain": [
       "   depth  time_dff  gilds distinguished  sentiment  word_count  char_count  \\\n",
       "0      0     31660      0     moderator        2.0          13          77   \n",
       "1      0      4524      1          none       10.0          60         306   \n",
       "2      0       190      0          none       12.0          34         172   \n",
       "3      0      2325      4          none        4.0          25         136   \n",
       "4      0       538      0          none        6.0          60         318   \n",
       "\n",
       "      score_cat  \n",
       "0  UNREMARKABLE  \n",
       "1  VERY POPULAR  \n",
       "2  VERY POPULAR  \n",
       "3  VERY POPULAR  \n",
       "4  VERY POPULAR  "
      ]
     },
     "execution_count": 8,
     "metadata": {},
     "output_type": "execute_result"
    }
   ],
   "source": [
    "data.drop(columns=['id', 'parent_id', 'top_level', 'created_utc', 'body', 'score'], inplace=True)\n",
    "data.head()"
   ]
  },
  {
   "cell_type": "code",
   "execution_count": 9,
   "metadata": {},
   "outputs": [],
   "source": [
    "from sklearn.preprocessing import OneHotEncoder\n",
    "from sklearn.preprocessing import StandardScaler\n",
    "from sklearn.compose import ColumnTransformer\n",
    "\n",
    "train_set, test_set = train_test_split(data, test_size = 0.2)\n",
    "\n",
    "y_train, X_train = train_set['score_cat'], train_set.drop(columns=['score_cat'])\n",
    "y_test, X_test = test_set['score_cat'], test_set.drop(columns=['score_cat'])"
   ]
  },
  {
   "cell_type": "code",
   "execution_count": 10,
   "metadata": {},
   "outputs": [],
   "source": [
    "data.drop(columns=['score_cat'], inplace=True)\n",
    "full_pipeline = ColumnTransformer([\n",
    "    ('num', StandardScaler(), list(data.select_dtypes(include=[np.number]))),\n",
    "    ('cat', OneHotEncoder(), list(data.select_dtypes(include=[np.object]).columns))\n",
    "])"
   ]
  },
  {
   "cell_type": "code",
   "execution_count": 11,
   "metadata": {},
   "outputs": [],
   "source": [
    "X_train = full_pipeline.fit_transform(X_train)"
   ]
  },
  {
   "cell_type": "code",
   "execution_count": 12,
   "metadata": {},
   "outputs": [],
   "source": [
    "X_test = full_pipeline.transform(X_test)"
   ]
  },
  {
   "cell_type": "code",
   "execution_count": 13,
   "metadata": {},
   "outputs": [
    {
     "data": {
      "text/plain": [
       "DecisionTreeClassifier(class_weight=None, criterion='gini', max_depth=None,\n",
       "                       max_features=None, max_leaf_nodes=None,\n",
       "                       min_impurity_decrease=0.0, min_impurity_split=None,\n",
       "                       min_samples_leaf=1, min_samples_split=2,\n",
       "                       min_weight_fraction_leaf=0.0, presort=False,\n",
       "                       random_state=None, splitter='best')"
      ]
     },
     "execution_count": 13,
     "metadata": {},
     "output_type": "execute_result"
    }
   ],
   "source": [
    "alt = DecisionTreeClassifier()\n",
    "alt.fit(X_train, y_train)"
   ]
  },
  {
   "cell_type": "code",
   "execution_count": 14,
   "metadata": {},
   "outputs": [
    {
     "name": "stdout",
     "output_type": "stream",
     "text": [
      "Accuracy of the DT:  0.808347370391166\n",
      "Precision of the DT:  0.8113593491427431\n",
      "Recall of the DT:  0.808347370391166\n",
      "F-Score of the DT:  0.8098371205013164\n"
     ]
    }
   ],
   "source": [
    "y_predict = alt.predict(X_test)\n",
    "\n",
    "print(\"Accuracy of the DT: \", accuracy_score(y_test, y_predict))\n",
    "print(\"Precision of the DT: \", precision_score(y_test, y_predict, labels=list(set(y_test)), average='weighted'))\n",
    "print(\"Recall of the DT: \", recall_score(y_test, y_predict, labels=list(set(y_test)), average='weighted'))\n",
    "print(\"F-Score of the DT: \", f1_score(y_test, y_predict, labels=list(set(y_test)), average='weighted'))"
   ]
  }
 ],
 "metadata": {
  "kernelspec": {
   "display_name": "Python 3",
   "language": "python",
   "name": "python3"
  },
  "language_info": {
   "codemirror_mode": {
    "name": "ipython",
    "version": 3
   },
   "file_extension": ".py",
   "mimetype": "text/x-python",
   "name": "python",
   "nbconvert_exporter": "python",
   "pygments_lexer": "ipython3",
   "version": "3.6.10"
  }
 },
 "nbformat": 4,
 "nbformat_minor": 4
}
