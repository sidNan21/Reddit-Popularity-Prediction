{
 "cells": [
  {
   "cell_type": "code",
   "execution_count": 1,
   "metadata": {},
   "outputs": [],
   "source": [
    "# Import some common packages\n",
    "import os\n",
    "import numpy as np\n",
    "import matplotlib\n",
    "import matplotlib.pyplot as plt\n",
    "import pandas as pd"
   ]
  },
  {
   "cell_type": "code",
   "execution_count": 4,
   "metadata": {},
   "outputs": [],
   "source": [
    "# Load data\n",
    "data = pd.read_json('../data/relationship_advice.json')\n",
    "data['distinguished'] = data['distinguished'].fillna(value='none')"
   ]
  },
  {
   "cell_type": "code",
   "execution_count": 5,
   "metadata": {},
   "outputs": [],
   "source": [
    "# Clean data and generate features\n",
    "import afinn\n",
    "\n",
    "afinn_nlp = afinn.Afinn(language='en', emoticons=True)\n",
    "data['sentiment'] = data['body'].apply(lambda text: afinn_nlp.score(text))\n",
    "\n",
    "data['word_count'] = data['body'].apply(lambda text: len(text.split(' ')))\n",
    "data['char_count'] = data['body'].apply(lambda text: len(text))\n",
    "\n",
    "def categorize(score):\n",
    "    if score < 0:\n",
    "        return 'UNPOPULAR'\n",
    "    elif score >= 0 and score < 100:\n",
    "        return 'UNREMARKABLE'\n",
    "    elif score >= 100 and score < 500:\n",
    "        return 'SOMEWHAT POPULAR'\n",
    "    elif score >= 500 and score < 1000:\n",
    "        return 'POPULAR'\n",
    "    else:\n",
    "        return 'VERY POPULAR'\n",
    "data['score_cat'] = data['score'].apply(lambda score: categorize(score))"
   ]
  },
  {
   "cell_type": "code",
   "execution_count": 35,
   "metadata": {},
   "outputs": [],
   "source": [
    "from sklearn.model_selection import train_test_split\n",
    "from sklearn.feature_extraction.text import TfidfVectorizer\n",
    "\n",
    "tf = TfidfVectorizer(stop_words='english', sublinear_tf=True)\n",
    "train_set, test_set = train_test_split(data, test_size = 0.8)\n",
    "\n",
    "y_train, X_train = train_set['score_cat'], train_set['body']\n",
    "y_test, X_test = test_set['score_cat'], test_set['body']\n",
    "\n",
    "X_train = tf.fit_transform(X_train)\n",
    "X_test = tf.transform(X_test)"
   ]
  },
  {
   "cell_type": "code",
   "execution_count": 40,
   "metadata": {},
   "outputs": [
    {
     "data": {
      "text/plain": [
       "DecisionTreeClassifier(class_weight=None, criterion='gini', max_depth=None,\n",
       "                       max_features=None, max_leaf_nodes=None,\n",
       "                       min_impurity_decrease=0.0, min_impurity_split=None,\n",
       "                       min_samples_leaf=1, min_samples_split=2,\n",
       "                       min_weight_fraction_leaf=0.0, presort=False,\n",
       "                       random_state=None, splitter='best')"
      ]
     },
     "execution_count": 40,
     "metadata": {},
     "output_type": "execute_result"
    }
   ],
   "source": [
    "from sklearn.tree import DecisionTreeClassifier\n",
    "\n",
    "dt = DecisionTreeClassifier()\n",
    "dt.fit(X_train, y_train)"
   ]
  },
  {
   "cell_type": "code",
   "execution_count": 41,
   "metadata": {},
   "outputs": [
    {
     "data": {
      "text/plain": [
       "0.8253749151907914"
      ]
     },
     "execution_count": 41,
     "metadata": {},
     "output_type": "execute_result"
    }
   ],
   "source": [
    "dt.score(X_test, y_test)"
   ]
  },
  {
   "cell_type": "code",
   "execution_count": null,
   "metadata": {},
   "outputs": [],
   "source": [
    "# Train/Test Split \n",
    "# Utilize Tfidf Vectorizer for comment text\n",
    "# Vectorize ohter features seperately\n",
    "# Classify using data solely from tfidf -> Random Forest\n",
    "# Classify using metadata only -> Random Forest\n",
    "# Use classifier output from tfidf as a feature for metadata classifier -> Random Forest"
   ]
  }
 ],
 "metadata": {
  "kernelspec": {
   "display_name": "Python 3",
   "language": "python",
   "name": "python3"
  },
  "language_info": {
   "codemirror_mode": {
    "name": "ipython",
    "version": 3
   },
   "file_extension": ".py",
   "mimetype": "text/x-python",
   "name": "python",
   "nbconvert_exporter": "python",
   "pygments_lexer": "ipython3",
   "version": "3.6.10"
  }
 },
 "nbformat": 4,
 "nbformat_minor": 4
}
